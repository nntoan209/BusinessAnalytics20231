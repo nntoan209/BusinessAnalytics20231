{
 "cells": [
  {
   "cell_type": "code",
   "execution_count": 1,
   "metadata": {},
   "outputs": [],
   "source": [
    "import pyodbc"
   ]
  },
  {
   "cell_type": "code",
   "execution_count": 36,
   "metadata": {},
   "outputs": [],
   "source": [
    "server = 'tcp:bi20231.database.windows.net' \n",
    "database = 'le_countries' \n",
    "username = 'khoi.hm204917@sis.hust.edu.vn' \n",
    "password = 'password' \n",
    "\n",
    "\n",
    "connection = pyodbc.connect('Driver={ODBC Driver 18 for SQL Server};Server='+server+',1433;Database='+database+';Uid='+username+';Pwd='+password+';Encrypt=yes;TrustServerCertificate=no;Connection Timeout=180;Authentication=ActiveDirectoryInteractive')\n",
    "cursor = connection.cursor()\n"
   ]
  },
  {
   "cell_type": "code",
   "execution_count": 37,
   "metadata": {},
   "outputs": [
    {
     "name": "stdout",
     "output_type": "stream",
     "text": [
      "Microsoft SQL Azure (RTM) - 12.0.2000.8 \n",
      "\tNov 30 2023 14:32:03 \n",
      "\tCopyright (C) 2022 Microsoft Corporation\n",
      "\n"
     ]
    }
   ],
   "source": [
    "cursor.execute(\"SELECT @@version;\")\n",
    "row = cursor.fetchone()\n",
    "while row:\n",
    "    print(row[0])\n",
    "    row = cursor.fetchone()"
   ]
  },
  {
   "cell_type": "code",
   "execution_count": 48,
   "metadata": {},
   "outputs": [
    {
     "name": "stdout",
     "output_type": "stream",
     "text": [
      "Afghanistan ASIA Southern Asia Developing\n"
     ]
    }
   ],
   "source": [
    "import pandas as pd\n",
    "\n",
    "df = pd.read_csv('pseudo/country.csv')\n",
    "for row in df.itertuples():\n",
    "    print(row.Country, row.Region, row.Subregion, row.Status)\n",
    "    break"
   ]
  },
  {
   "cell_type": "code",
   "execution_count": 49,
   "metadata": {},
   "outputs": [],
   "source": [
    "cursor.execute('''\n",
    "\t\tCREATE TABLE region_country (\n",
    "\t\t\tcountry nvarchar(100) primary key,\n",
    "\t\t\tsubregion nvarchar(50),\n",
    "\t\t\tregion nvarchar(50),\n",
    "            status nvarchar(50),\n",
    "\t\t\t)\n",
    "               ''')\n",
    "\n",
    "for row in df.itertuples():\n",
    "    cursor.execute('''\n",
    "        INSERT INTO region_country (country, subregion, region, status)\n",
    "        VALUES (?,?,?,?)\n",
    "               ''', row.Country, row.Subregion, row.Region, row.Status)\n",
    "connection.commit()\n"
   ]
  },
  {
   "cell_type": "code",
   "execution_count": 46,
   "metadata": {},
   "outputs": [
    {
     "name": "stdout",
     "output_type": "stream",
     "text": [
      "('Afghanistan', 'Southern Asia', 'ASIA', 'Developing')\n"
     ]
    }
   ],
   "source": [
    "cursor.execute(''' SELECT * FROM region_country ''')\n",
    "row = cursor.fetchone()\n",
    "while row:\n",
    "    print(row)\n",
    "    row = cursor.fetchone()"
   ]
  },
  {
   "cell_type": "markdown",
   "metadata": {},
   "source": [
    "# droptest"
   ]
  },
  {
   "cell_type": "code",
   "execution_count": 47,
   "metadata": {},
   "outputs": [
    {
     "data": {
      "text/plain": [
       "<pyodbc.Cursor at 0x1a91d921b30>"
      ]
     },
     "execution_count": 47,
     "metadata": {},
     "output_type": "execute_result"
    }
   ],
   "source": [
    "cursor.execute(''' DROP TABLE region_country ''')"
   ]
  },
  {
   "cell_type": "markdown",
   "metadata": {},
   "source": []
  },
  {
   "cell_type": "code",
   "execution_count": null,
   "metadata": {},
   "outputs": [],
   "source": [
    "cursor.execute('''\n",
    "\t\tCREATE TABLE wpp (\n",
    "\t\t\tcountry nvarchar(100),\n",
    "            year int,\n",
    "\t\t\tsubregion nvarchar(50),\n",
    "\t\t\tregion nvarchar(50),\n",
    "               \n",
    "            primary key (country, year),\n",
    "            foreign key (country) references region_country(country),\n",
    "\t\t\t)\n",
    "               ''')\n",
    "\n",
    "for row in df.itertuples():\n",
    "    cursor.execute('''\n",
    "        INSERT INTO region_country (country, subregion, region, status)\n",
    "        VALUES (?,?,?,?)\n",
    "               ''', row.Country, row.Subregion, row.Region, row.Status)\n",
    "connection.commit()"
   ]
  },
  {
   "cell_type": "code",
   "execution_count": null,
   "metadata": {},
   "outputs": [],
   "source": [
    "cursor.execute('''\n",
    "\t\tCREATE TABLE who (\n",
    "\t\t\tcountry nvarchar(100),\n",
    "            year int,\n",
    "\t\t\tsubregion nvarchar(50),\n",
    "\t\t\tregion nvarchar(50),\n",
    "               \n",
    "            primary key (country, year),\n",
    "            foreign key (country) references region_country(country),\n",
    "\t\t\t)\n",
    "               ''')"
   ]
  },
  {
   "cell_type": "code",
   "execution_count": null,
   "metadata": {},
   "outputs": [],
   "source": [
    "cursor.execute('''\n",
    "\t\tCREATE TABLE imf (\n",
    "\t\t\tcountry nvarchar(100),\n",
    "            year int,\n",
    "\t\t\tsubregion nvarchar(50),\n",
    "\t\t\tregion nvarchar(50),\n",
    "               \n",
    "            primary key (country, year),\n",
    "            foreign key (country) references region_country(country),\n",
    "\t\t\t)\n",
    "               ''')"
   ]
  }
 ],
 "metadata": {
  "kernelspec": {
   "display_name": "playground",
   "language": "python",
   "name": "python3"
  },
  "language_info": {
   "codemirror_mode": {
    "name": "ipython",
    "version": 3
   },
   "file_extension": ".py",
   "mimetype": "text/x-python",
   "name": "python",
   "nbconvert_exporter": "python",
   "pygments_lexer": "ipython3",
   "version": "3.9.16"
  }
 },
 "nbformat": 4,
 "nbformat_minor": 2
}
